{
 "cells": [
  {
   "cell_type": "markdown",
   "metadata": {},
   "source": [
    "># IMAGE TRANSFORMATION\n",
    "* Change the image from one form to another\n"
   ]
  },
  {
   "cell_type": "markdown",
   "metadata": {},
   "source": [
    ">## TRANSLATION\n",
    "* shifting of an object's location"
   ]
  },
  {
   "cell_type": "code",
   "execution_count": 1,
   "metadata": {},
   "outputs": [],
   "source": [
    "import cv2\n",
    "import numpy as np"
   ]
  },
  {
   "cell_type": "code",
   "execution_count": 2,
   "metadata": {},
   "outputs": [],
   "source": [
    "img1=cv2.imread(\"photo_2022-05-19_17-42-46.jpg\",0)"
   ]
  },
  {
   "cell_type": "code",
   "execution_count": 5,
   "metadata": {},
   "outputs": [
    {
     "data": {
      "text/plain": [
       "138"
      ]
     },
     "execution_count": 5,
     "metadata": {},
     "output_type": "execute_result"
    }
   ],
   "source": [
    "#get image size \n",
    "rows,cols=img1.shape\n",
    "rows\n",
    "cols"
   ]
  },
  {
   "cell_type": "code",
   "execution_count": 6,
   "metadata": {},
   "outputs": [],
   "source": [
    "#define translation matrix\n",
    "m=np.float32([[1,0,50],[0,1,100]])\n",
    "# get translate image\n",
    "translated_image=cv2.warpAffine(img1,m,(cols,rows))\n",
    "#display image \n",
    "cv2.imshow(\"original image\",img1)\n",
    "cv2.imshow(\"Translate Image\",translated_image)\n",
    "cv2.waitKey()\n",
    "cv2.destroyAllWindows()"
   ]
  },
  {
   "cell_type": "markdown",
   "metadata": {},
   "source": [
    ">## ROTATION\n",
    "* technique rotates an image by a specified\n",
    "angle and by the given axis or point."
   ]
  },
  {
   "cell_type": "code",
   "execution_count": 7,
   "metadata": {},
   "outputs": [],
   "source": [
    "#define rotation matrix\n",
    "m=cv2.getRotationMatrix2D((cols/2,rows/2),90,1)\n",
    "# get translate image\n",
    "rotated_image=cv2.warpAffine(img1,m,(cols,rows))\n",
    "#display image \n",
    "cv2.imshow(\"original image\",img1)\n",
    "cv2.imshow(\"Rotate Image\",rotated_image)\n",
    "cv2.waitKey()\n",
    "cv2.destroyAllWindows()"
   ]
  },
  {
   "cell_type": "markdown",
   "metadata": {},
   "source": [
    "># MORPHOLOGICAL TRANSFORMATIONS\n",
    "* performed on binary images\n",
    "* two inputs, one is our original image,second one is called structuring\n",
    "element or kernel\n",
    "* Two basic\n",
    "morphological operators are Erosion and Dilation.\n",
    "* variant\n",
    "forms like Opening, Closing, Gradient"
   ]
  },
  {
   "cell_type": "markdown",
   "metadata": {},
   "source": [
    ">## Erosion\n",
    "* will be considered 1 only if all\n",
    "the pixels under the kernel is 1 otherwise it is eroded (made to zero)\n",
    "* shrinks object.\n",
    "* removes white\n",
    "noises"
   ]
  },
  {
   "cell_type": "code",
   "execution_count": 8,
   "metadata": {},
   "outputs": [],
   "source": [
    "img2=cv2.imread(\"photo_2022-05-19_19-44-23.jpg\",0)"
   ]
  },
  {
   "cell_type": "code",
   "execution_count": 13,
   "metadata": {},
   "outputs": [],
   "source": [
    "# get binary image \n",
    "(th,binary_img)=cv2.threshold(img2,127,255,cv2.THRESH_BINARY)\n",
    "# get kernel\n",
    "kernel=np.ones((3,3),np.uint8)\n",
    "# get eroded image\n",
    "eroded_img=cv2.erode(binary_img,kernel)\n",
    "cv2.imshow(\"original image\",img2)\n",
    "cv2.imshow(\"binary Image\",binary_img)\n",
    "cv2.imshow(\"Eroded \",eroded_img)\n",
    "cv2.waitKey()\n",
    "cv2.destroyAllWindows()\n"
   ]
  },
  {
   "cell_type": "markdown",
   "metadata": {},
   "source": [
    ">##  Dilation\n",
    "* opposite of erosion\n",
    "* it increases the white region\n",
    "* size of foreground object increases\n",
    "* useful in\n",
    "joining broken parts of an object."
   ]
  },
  {
   "cell_type": "code",
   "execution_count": 14,
   "metadata": {},
   "outputs": [],
   "source": [
    "# get binary image \n",
    "(th,binary_img)=cv2.threshold(img2,127,255,cv2.THRESH_BINARY)\n",
    "# get kernel\n",
    "kernel=np.ones((3,3),np.uint8)\n",
    "# get dilation image\n",
    "eroded_img=cv2.dilate(binary_img,kernel)\n",
    "cv2.imshow(\"original image\",img2)\n",
    "cv2.imshow(\"binary Image\",binary_img)\n",
    "cv2.imshow(\"Dilated \",eroded_img)\n",
    "cv2.waitKey()\n",
    "cv2.destroyAllWindows()"
   ]
  },
  {
   "cell_type": "markdown",
   "metadata": {},
   "source": [
    ">## OPENING\n",
    "*  erosion followed by dilation.\n",
    "* removing noise\n"
   ]
  },
  {
   "cell_type": "code",
   "execution_count": 15,
   "metadata": {},
   "outputs": [],
   "source": [
    "# get binary image \n",
    "(th,binary_img)=cv2.threshold(img2,127,255,cv2.THRESH_BINARY)\n",
    "# get kernel\n",
    "kernel=np.ones((3,3),np.uint8)\n",
    "# get open image\n",
    "opened_img=cv2.morphologyEx(binary_img,cv2.MORPH_OPEN,kernel)\n",
    "cv2.imshow(\"original image\",img2)\n",
    "cv2.imshow(\"binary Image\",binary_img)\n",
    "cv2.imshow(\"open \",opened_img)\n",
    "cv2.waitKey()\n",
    "cv2.destroyAllWindows()"
   ]
  },
  {
   "cell_type": "markdown",
   "metadata": {},
   "source": [
    ">## Closing\n",
    "* reverse opening\n",
    "* useful in closing small holes"
   ]
  },
  {
   "cell_type": "code",
   "execution_count": 16,
   "metadata": {},
   "outputs": [],
   "source": [
    "# get binary image \n",
    "(th,binary_img)=cv2.threshold(img2,127,255,cv2.THRESH_BINARY)\n",
    "# get kernel\n",
    "kernel=np.ones((3,3),np.uint8)\n",
    "# get close image\n",
    "closeded_img=cv2.morphologyEx(binary_img,cv2.MORPH_CLOSE,kernel)\n",
    "cv2.imshow(\"original image\",img2)\n",
    "cv2.imshow(\"binary Image\",binary_img)\n",
    "cv2.imshow(\"close \",closeded_img)\n",
    "cv2.waitKey()\n",
    "cv2.destroyAllWindows()"
   ]
  },
  {
   "cell_type": "markdown",
   "metadata": {},
   "source": [
    ">## MORPHOLOGICAL GRADIENT\n",
    "* difference between dilation and erosion"
   ]
  },
  {
   "cell_type": "code",
   "execution_count": 17,
   "metadata": {},
   "outputs": [],
   "source": [
    "# get binary image \n",
    "(th,binary_img)=cv2.threshold(img2,127,255,cv2.THRESH_BINARY)\n",
    "# get kernel\n",
    "kernel=np.ones((3,3),np.uint8)\n",
    "# get gradient image\n",
    "gradient_img=cv2.morphologyEx(binary_img,cv2.MORPH_GRADIENT,kernel)\n",
    "cv2.imshow(\"original image\",img2)\n",
    "cv2.imshow(\"binary Image\",binary_img)\n",
    "cv2.imshow(\"Gradient \",gradient_img)\n",
    "cv2.waitKey()\n",
    "cv2.destroyAllWindows()"
   ]
  },
  {
   "cell_type": "markdown",
   "metadata": {},
   "source": [
    ">## TOP HAT\n",
    "* difference between input image and Opening"
   ]
  },
  {
   "cell_type": "code",
   "execution_count": 18,
   "metadata": {},
   "outputs": [],
   "source": [
    "# get binary image \n",
    "(th,binary_img)=cv2.threshold(img2,127,255,cv2.THRESH_BINARY)\n",
    "# get kernel\n",
    "kernel=np.ones((3,3),np.uint8)\n",
    "# get th image\n",
    "th_img=cv2.morphologyEx(binary_img,cv2.MORPH_TOPHAT,kernel)\n",
    "cv2.imshow(\"original image\",img2)\n",
    "cv2.imshow(\"binary Image\",binary_img)\n",
    "cv2.imshow(\"TH \",th_img)\n",
    "cv2.waitKey()\n",
    "cv2.destroyAllWindows()"
   ]
  },
  {
   "cell_type": "markdown",
   "metadata": {},
   "source": [
    ">## BLACK HAT\n",
    "* difference between the closing of the input image"
   ]
  },
  {
   "cell_type": "code",
   "execution_count": 19,
   "metadata": {},
   "outputs": [],
   "source": [
    "# get binary image \n",
    "(th,binary_img)=cv2.threshold(img2,127,255,cv2.THRESH_BINARY)\n",
    "# get kernel\n",
    "kernel=np.ones((3,3),np.uint8)\n",
    "# get BH image\n",
    "bh_img=cv2.morphologyEx(binary_img,cv2.MORPH_BLACKHAT,kernel)\n",
    "cv2.imshow(\"original image\",img2)\n",
    "cv2.imshow(\"binary Image\",binary_img)\n",
    "cv2.imshow(\"BH \",bh_img)\n",
    "cv2.waitKey()\n",
    "cv2.destroyAllWindows()"
   ]
  },
  {
   "cell_type": "code",
   "execution_count": null,
   "metadata": {},
   "outputs": [],
   "source": []
  }
 ],
 "metadata": {
  "kernelspec": {
   "display_name": "Python 3.10.2 64-bit",
   "language": "python",
   "name": "python3"
  },
  "language_info": {
   "codemirror_mode": {
    "name": "ipython",
    "version": 3
   },
   "file_extension": ".py",
   "mimetype": "text/x-python",
   "name": "python",
   "nbconvert_exporter": "python",
   "pygments_lexer": "ipython3",
   "version": "3.10.2"
  },
  "orig_nbformat": 4,
  "vscode": {
   "interpreter": {
    "hash": "adf84a4b124432f7138759ecee0007f637a345bf464e2be6d89c55954a04e06e"
   }
  }
 },
 "nbformat": 4,
 "nbformat_minor": 2
}
